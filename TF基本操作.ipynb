{
  "nbformat": 4,
  "nbformat_minor": 0,
  "metadata": {
    "colab": {
      "name": "Untitled0.ipynb",
      "provenance": []
    },
    "kernelspec": {
      "name": "python3",
      "display_name": "Python 3"
    },
    "language_info": {
      "name": "python"
    }
  },
  "cells": [
    {
      "cell_type": "code",
      "metadata": {
        "id": "Rh7qLAUcJqgt"
      },
      "source": [
        "import tensorflow.keras\n",
        "import numpy as np\n",
        "import pandas as pd\n",
        "import tensorflow as tf\n"
      ],
      "execution_count": null,
      "outputs": []
    },
    {
      "cell_type": "markdown",
      "metadata": {
        "id": "ao9OV9iGKGjC"
      },
      "source": [
        "**tensorflow operations**"
      ]
    },
    {
      "cell_type": "code",
      "metadata": {
        "colab": {
          "base_uri": "https://localhost:8080/"
        },
        "id": "nXTEt45RKF2K",
        "outputId": "27a14480-094c-4242-a99b-f697d1863b43"
      },
      "source": [
        "#在tf中生成變數，初始值為隨機\n",
        "v = tf.Variable(initial_value=tf.random.normal(shape=(3,1)))\n",
        "v"
      ],
      "execution_count": null,
      "outputs": [
        {
          "output_type": "execute_result",
          "data": {
            "text/plain": [
              "<tf.Variable 'Variable:0' shape=(3, 1) dtype=float32, numpy=\n",
              "array([[ 1.1514196 ],\n",
              "       [-0.13220641],\n",
              "       [-0.33578503]], dtype=float32)>"
            ]
          },
          "metadata": {},
          "execution_count": 3
        }
      ]
    },
    {
      "cell_type": "code",
      "metadata": {
        "colab": {
          "base_uri": "https://localhost:8080/"
        },
        "id": "3xA8o65EKnPP",
        "outputId": "c2956b0c-05b4-429e-befe-42a558ba53c6"
      },
      "source": [
        "#賦予1在矩陣裡面\n",
        "v.assign(tf.ones((3,1)))"
      ],
      "execution_count": null,
      "outputs": [
        {
          "output_type": "execute_result",
          "data": {
            "text/plain": [
              "<tf.Variable 'UnreadVariable' shape=(3, 1) dtype=float32, numpy=\n",
              "array([[1.],\n",
              "       [1.],\n",
              "       [1.]], dtype=float32)>"
            ]
          },
          "metadata": {},
          "execution_count": 9
        }
      ]
    },
    {
      "cell_type": "code",
      "metadata": {
        "colab": {
          "base_uri": "https://localhost:8080/"
        },
        "id": "Dxn93l88LFsi",
        "outputId": "df1e8006-4a4c-4161-9c49-54ae495bd8d3"
      },
      "source": [
        "#在陣列裡各加上1\n",
        "v.assign_add(tf.ones((3,1)))"
      ],
      "execution_count": null,
      "outputs": [
        {
          "output_type": "execute_result",
          "data": {
            "text/plain": [
              "<tf.Variable 'UnreadVariable' shape=(3, 1) dtype=float32, numpy=\n",
              "array([[2.],\n",
              "       [2.],\n",
              "       [2.]], dtype=float32)>"
            ]
          },
          "metadata": {},
          "execution_count": 10
        }
      ]
    },
    {
      "cell_type": "code",
      "metadata": {
        "colab": {
          "base_uri": "https://localhost:8080/"
        },
        "id": "Zp6CHyLnLU-Q",
        "outputId": "b43be2ba-e2da-43ce-f025-5e509334f92d"
      },
      "source": [
        "#在0,0位置的值改成3\n",
        "v[0,0].assign(3)"
      ],
      "execution_count": null,
      "outputs": [
        {
          "output_type": "execute_result",
          "data": {
            "text/plain": [
              "<tf.Variable 'UnreadVariable' shape=(3, 1) dtype=float32, numpy=\n",
              "array([[3.],\n",
              "       [2.],\n",
              "       [2.]], dtype=float32)>"
            ]
          },
          "metadata": {},
          "execution_count": 11
        }
      ]
    },
    {
      "cell_type": "code",
      "metadata": {
        "colab": {
          "base_uri": "https://localhost:8080/"
        },
        "id": "6KIBPLtFLqDV",
        "outputId": "c702dbbe-0ce8-4b50-ac43-4ba29e6b6c22"
      },
      "source": [
        "a = tf.random.normal((2, 2))\n",
        "b = tf.square(a)\n",
        "c = tf.sqrt(a)\n",
        "d = b + c\n",
        "e = tf.matmul(a, b)\n",
        "e *= d\n",
        "print(a)\n",
        "print(b)\n",
        "print(c)\n",
        "print(d)\n",
        "print(e)"
      ],
      "execution_count": null,
      "outputs": [
        {
          "output_type": "stream",
          "text": [
            "tf.Tensor(\n",
            "[[0.22565795 0.9469915 ]\n",
            " [0.8067066  1.8031243 ]], shape=(2, 2), dtype=float32)\n",
            "tf.Tensor(\n",
            "[[0.05092151 0.8967929 ]\n",
            " [0.65077555 3.2512572 ]], shape=(2, 2), dtype=float32)\n",
            "tf.Tensor(\n",
            "[[0.47503468 0.9731349 ]\n",
            " [0.89816844 1.3428047 ]], shape=(2, 2), dtype=float32)\n",
            "tf.Tensor(\n",
            "[[0.5259562 1.8699278]\n",
            " [1.548944  4.594062 ]], shape=(2, 2), dtype=float32)\n",
            "tf.Tensor(\n",
            "[[ 0.33017942  6.1357594 ]\n",
            " [ 1.8812047  30.255894  ]], shape=(2, 2), dtype=float32)\n"
          ],
          "name": "stdout"
        }
      ]
    },
    {
      "cell_type": "code",
      "metadata": {
        "id": "PkGrI13uMp_d"
      },
      "source": [
        ""
      ],
      "execution_count": null,
      "outputs": []
    }
  ]
}