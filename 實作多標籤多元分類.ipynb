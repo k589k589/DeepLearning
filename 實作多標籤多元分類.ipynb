{
  "nbformat": 4,
  "nbformat_minor": 0,
  "metadata": {
    "colab": {
      "name": "實作多標籤多元分類.ipynb",
      "provenance": [],
      "authorship_tag": "ABX9TyPAxQ78oF0SQrIbNEZ8U3sp",
      "include_colab_link": true
    },
    "kernelspec": {
      "name": "python3",
      "display_name": "Python 3"
    },
    "language_info": {
      "name": "python"
    }
  },
  "cells": [
    {
      "cell_type": "markdown",
      "metadata": {
        "id": "view-in-github",
        "colab_type": "text"
      },
      "source": [
        "<a href=\"https://colab.research.google.com/github/k589k589/DeepLearning/blob/main/%E5%AF%A6%E4%BD%9C%E5%A4%9A%E6%A8%99%E7%B1%A4%E5%A4%9A%E5%85%83%E5%88%86%E9%A1%9E.ipynb\" target=\"_parent\"><img src=\"https://colab.research.google.com/assets/colab-badge.svg\" alt=\"Open In Colab\"/></a>"
      ]
    },
    {
      "cell_type": "code",
      "metadata": {
        "id": "Ttz56onUNa5W"
      },
      "source": [
        "from tensorflow.keras.datasets import imdb\n",
        "import pandas as pd\n",
        "import numpy as np\n",
        "import tensorflow as tf\n"
      ],
      "execution_count": null,
      "outputs": []
    },
    {
      "cell_type": "code",
      "metadata": {
        "id": "Lh8AXPYbN5dg"
      },
      "source": [
        "(train_data,train_labels),(test_data,test_labels)=imdb.load_data(num_words=5000)"
      ],
      "execution_count": null,
      "outputs": []
    },
    {
      "cell_type": "code",
      "metadata": {
        "colab": {
          "base_uri": "https://localhost:8080/"
        },
        "id": "vAdYB8NgORl7",
        "outputId": "f7cfc431-b54f-4372-eae3-2e58a6de5dc9"
      },
      "source": [
        "train_labels[0]"
      ],
      "execution_count": null,
      "outputs": [
        {
          "output_type": "execute_result",
          "data": {
            "text/plain": [
              "1"
            ]
          },
          "metadata": {},
          "execution_count": 10
        }
      ]
    },
    {
      "cell_type": "code",
      "metadata": {
        "colab": {
          "base_uri": "https://localhost:8080/"
        },
        "id": "xzla1YWWO7SY",
        "outputId": "e6444910-9eff-4125-8977-fb2564f5574c"
      },
      "source": [
        "max([max(sequence) for sequence in train_data])"
      ],
      "execution_count": null,
      "outputs": [
        {
          "output_type": "execute_result",
          "data": {
            "text/plain": [
              "4999"
            ]
          },
          "metadata": {},
          "execution_count": 13
        }
      ]
    },
    {
      "cell_type": "code",
      "metadata": {
        "colab": {
          "base_uri": "https://localhost:8080/"
        },
        "id": "2yEA7pBfPUea",
        "outputId": "93e14a79-db97-453f-ea7b-c866662b2370"
      },
      "source": [
        "word_index=imdb.get_word_index()\n"
      ],
      "execution_count": null,
      "outputs": [
        {
          "output_type": "stream",
          "text": [
            "Downloading data from https://storage.googleapis.com/tensorflow/tf-keras-datasets/imdb_word_index.json\n",
            "1646592/1641221 [==============================] - 0s 0us/step\n",
            "1654784/1641221 [==============================] - 0s 0us/step\n"
          ],
          "name": "stdout"
        }
      ]
    },
    {
      "cell_type": "code",
      "metadata": {
        "id": "hNxzU8U5Psck"
      },
      "source": [
        "word_index = imdb.get_word_index()\n",
        "reverse_word_index = dict(\n",
        "    [(value, key) for (key, value) in word_index.items()])\n",
        "decoded_review = \" \".join(\n",
        "    [reverse_word_index.get(i - 3, \"?\") for i in train_data[0]])"
      ],
      "execution_count": null,
      "outputs": []
    },
    {
      "cell_type": "code",
      "metadata": {
        "id": "50BuynZYSSqR"
      },
      "source": [
        "\n",
        "import numpy as np\n",
        "def vectorize_sequences(sequences, dimension=5000):\n",
        "    results = np.zeros((len(sequences), dimension))\n",
        "    for i, sequence in enumerate(sequences):\n",
        "        for j in sequence:\n",
        "            results[i, j] = 1.\n",
        "    return results\n",
        "x_train = vectorize_sequences(train_data)\n",
        "x_test = vectorize_sequences(test_data)"
      ],
      "execution_count": null,
      "outputs": []
    },
    {
      "cell_type": "code",
      "metadata": {
        "id": "FGS-WjPsS5Wv"
      },
      "source": [
        "y_train = np.asarray(train_labels).astype(\"float32\")\n",
        "y_test = np.asarray(test_labels).astype(\"float32\")"
      ],
      "execution_count": null,
      "outputs": []
    },
    {
      "cell_type": "code",
      "metadata": {
        "id": "W2YDyiWkTHEu"
      },
      "source": [
        "from tensorflow.keras import layers\n",
        "from tensorflow.keras import Sequential\n",
        "from tensorflow import keras\n"
      ],
      "execution_count": null,
      "outputs": []
    },
    {
      "cell_type": "code",
      "metadata": {
        "id": "_BirrSdgTgiu"
      },
      "source": [
        "model=keras.Sequential([\n",
        "                        layers.Dense(16,activation='relu'),\n",
        "                        layers.Dense(16,activation='relu'),\n",
        "                        layers.Dense(1,activation='sigmoid')\n",
        "])"
      ],
      "execution_count": null,
      "outputs": []
    },
    {
      "cell_type": "code",
      "metadata": {
        "id": "_Xutz3QwUB18"
      },
      "source": [
        "model.compile(optimizer='rmsprop',loss='binary_crossentropy',metrics=['accuracy'])"
      ],
      "execution_count": null,
      "outputs": []
    },
    {
      "cell_type": "code",
      "metadata": {
        "id": "yVP-WfXRUcak"
      },
      "source": [
        "x_val = x_train[:10000]\n",
        "partial_x_train = x_train[10000:]\n",
        "y_val = y_train[:10000]\n",
        "partial_y_train = y_train[10000:]"
      ],
      "execution_count": null,
      "outputs": []
    },
    {
      "cell_type": "code",
      "metadata": {
        "colab": {
          "base_uri": "https://localhost:8080/"
        },
        "id": "aS5pAk1_Uttl",
        "outputId": "a52e44b9-c2c7-4865-9290-6718c758831e"
      },
      "source": [
        "history=model.fit(partial_x_train,partial_y_train,epochs=20,batch_size=256,validation_data=(x_val,y_val))"
      ],
      "execution_count": null,
      "outputs": [
        {
          "output_type": "stream",
          "text": [
            "Epoch 1/20\n",
            "59/59 [==============================] - 3s 28ms/step - loss: 0.4476 - accuracy: 0.8132 - val_loss: 0.3255 - val_accuracy: 0.8791\n",
            "Epoch 2/20\n",
            "59/59 [==============================] - 1s 20ms/step - loss: 0.2639 - accuracy: 0.9055 - val_loss: 0.3018 - val_accuracy: 0.8778\n",
            "Epoch 3/20\n",
            "59/59 [==============================] - 1s 20ms/step - loss: 0.2121 - accuracy: 0.9217 - val_loss: 0.2870 - val_accuracy: 0.8833\n",
            "Epoch 4/20\n",
            "59/59 [==============================] - 1s 20ms/step - loss: 0.1822 - accuracy: 0.9321 - val_loss: 0.2963 - val_accuracy: 0.8822\n",
            "Epoch 5/20\n",
            "59/59 [==============================] - 1s 20ms/step - loss: 0.1583 - accuracy: 0.9405 - val_loss: 0.3116 - val_accuracy: 0.8769\n",
            "Epoch 6/20\n",
            "59/59 [==============================] - 1s 19ms/step - loss: 0.1398 - accuracy: 0.9491 - val_loss: 0.3321 - val_accuracy: 0.8764\n",
            "Epoch 7/20\n",
            "59/59 [==============================] - 1s 20ms/step - loss: 0.1261 - accuracy: 0.9553 - val_loss: 0.3746 - val_accuracy: 0.8668\n",
            "Epoch 8/20\n",
            "59/59 [==============================] - 1s 20ms/step - loss: 0.1122 - accuracy: 0.9597 - val_loss: 0.3769 - val_accuracy: 0.8685\n",
            "Epoch 9/20\n",
            "59/59 [==============================] - 1s 19ms/step - loss: 0.0962 - accuracy: 0.9678 - val_loss: 0.4028 - val_accuracy: 0.8655\n",
            "Epoch 10/20\n",
            "59/59 [==============================] - 1s 20ms/step - loss: 0.0863 - accuracy: 0.9693 - val_loss: 0.4727 - val_accuracy: 0.8595\n",
            "Epoch 11/20\n",
            "59/59 [==============================] - 1s 19ms/step - loss: 0.0759 - accuracy: 0.9747 - val_loss: 0.4555 - val_accuracy: 0.8654\n",
            "Epoch 12/20\n",
            "59/59 [==============================] - 1s 20ms/step - loss: 0.0636 - accuracy: 0.9797 - val_loss: 0.4878 - val_accuracy: 0.8626\n",
            "Epoch 13/20\n",
            "59/59 [==============================] - 1s 19ms/step - loss: 0.0575 - accuracy: 0.9805 - val_loss: 0.5209 - val_accuracy: 0.8599\n",
            "Epoch 14/20\n",
            "59/59 [==============================] - 1s 20ms/step - loss: 0.0467 - accuracy: 0.9852 - val_loss: 0.5527 - val_accuracy: 0.8593\n",
            "Epoch 15/20\n",
            "59/59 [==============================] - 1s 20ms/step - loss: 0.0383 - accuracy: 0.9889 - val_loss: 0.5910 - val_accuracy: 0.8587\n",
            "Epoch 16/20\n",
            "59/59 [==============================] - 1s 20ms/step - loss: 0.0335 - accuracy: 0.9909 - val_loss: 0.6314 - val_accuracy: 0.8561\n",
            "Epoch 17/20\n",
            "59/59 [==============================] - 1s 21ms/step - loss: 0.0263 - accuracy: 0.9933 - val_loss: 0.6772 - val_accuracy: 0.8567\n",
            "Epoch 18/20\n",
            "59/59 [==============================] - 1s 19ms/step - loss: 0.0212 - accuracy: 0.9953 - val_loss: 0.7212 - val_accuracy: 0.8543\n",
            "Epoch 19/20\n",
            "59/59 [==============================] - 1s 19ms/step - loss: 0.0195 - accuracy: 0.9948 - val_loss: 0.7664 - val_accuracy: 0.8523\n",
            "Epoch 20/20\n",
            "59/59 [==============================] - 1s 19ms/step - loss: 0.0133 - accuracy: 0.9975 - val_loss: 0.8413 - val_accuracy: 0.8468\n"
          ],
          "name": "stdout"
        }
      ]
    },
    {
      "cell_type": "code",
      "metadata": {
        "colab": {
          "base_uri": "https://localhost:8080/"
        },
        "id": "7nZziQElVQuC",
        "outputId": "ec826bf6-376b-4be0-c512-5805b9dff533"
      },
      "source": [
        "history_dict=history.history\n",
        "history_dict.keys()"
      ],
      "execution_count": null,
      "outputs": [
        {
          "output_type": "execute_result",
          "data": {
            "text/plain": [
              "dict_keys(['loss', 'accuracy', 'val_loss', 'val_accuracy'])"
            ]
          },
          "metadata": {},
          "execution_count": 37
        }
      ]
    },
    {
      "cell_type": "code",
      "metadata": {
        "colab": {
          "base_uri": "https://localhost:8080/",
          "height": 312
        },
        "id": "qXDZNb8bVjZ6",
        "outputId": "3da514db-d186-492c-b0eb-4c7e2d4b9787"
      },
      "source": [
        "import matplotlib.pyplot as plt\n",
        "loss_values=history_dict['loss']\n",
        "val_loss=history_dict['val_loss']\n",
        "epoches=range(1,21)\n",
        "plt.plot(epoches,loss_values,'bo',label='loss')\n",
        "plt.plot(epoches,val_loss,label='val_loss')\n",
        "plt.title('loss_values')\n",
        "plt.xlabel('epoches')\n",
        "plt.ylabel('loss_values')\n",
        "plt.legend()\n",
        "plt.show"
      ],
      "execution_count": null,
      "outputs": [
        {
          "output_type": "execute_result",
          "data": {
            "text/plain": [
              "<function matplotlib.pyplot.show>"
            ]
          },
          "metadata": {},
          "execution_count": 43
        },
        {
          "output_type": "display_data",
          "data": {
            "image/png": "[encoded data removed]",
            "text/plain": [
              "<Figure size 432x288 with 1 Axes>"
            ]
          },
          "metadata": {
            "needs_background": "light"
          }
        }
      ]
    },
    {
      "cell_type": "code",
      "metadata": {
        "colab": {
          "base_uri": "https://localhost:8080/",
          "height": 295
        },
        "id": "lerj84V8W9aB",
        "outputId": "e549bfde-e618-48b6-c8fe-76af1abdb88b"
      },
      "source": [
        "\n",
        "acc = history_dict[\"accuracy\"]\n",
        "val_acc = history_dict[\"val_accuracy\"]\n",
        "plt.plot(epoches, acc, \"bo\", label=\"Training acc\")\n",
        "plt.plot(epoches, val_acc, \"b\", label=\"Validation acc\")\n",
        "plt.title(\"Training and validation accuracy\")\n",
        "plt.xlabel(\"Epochs\")\n",
        "plt.ylabel(\"Accuracy\")\n",
        "plt.legend()\n",
        "plt.show()"
      ],
      "execution_count": null,
      "outputs": [
        {
          "output_type": "display_data",
          "data": {
            "image/png": "[encoded data removed]",
            "text/plain": [
              "<Figure size 432x288 with 1 Axes>"
            ]
          },
          "metadata": {
            "needs_background": "light"
          }
        }
      ]
    },
    {
      "cell_type": "code",
      "metadata": {
        "colab": {
          "base_uri": "https://localhost:8080/"
        },
        "id": "yKuVt_8FZFOV",
        "outputId": "4ce587f5-661c-4464-e776-ac5abf115dc1"
      },
      "source": [
        "from tensorflow.keras.datasets import reuters\n",
        "(train_data, train_labels), (test_data, test_labels) = reuters.load_data(\n",
        "    num_words=10000)"
      ],
      "execution_count": null,
      "outputs": [
        {
          "output_type": "stream",
          "text": [
            "Downloading data from https://storage.googleapis.com/tensorflow/tf-keras-datasets/reuters.npz\n",
            "2113536/2110848 [==============================] - 0s 0us/step\n",
            "2121728/2110848 [==============================] - 0s 0us/step\n"
          ],
          "name": "stdout"
        }
      ]
    },
    {
      "cell_type": "code",
      "metadata": {
        "colab": {
          "base_uri": "https://localhost:8080/"
        },
        "id": "o5BAbwFGZIPj",
        "outputId": "ef0a3abd-2e87-4fae-99f9-e345a3902bc9"
      },
      "source": [
        "\n",
        "word_index = reuters.get_word_index()\n",
        "reverse_word_index = dict([(value, key) for (key, value) in word_index.items()])\n",
        "decoded_newswire = \" \".join([reverse_word_index.get(i - 3, \"?\") for i in\n",
        "    train_data[0]])"
      ],
      "execution_count": null,
      "outputs": [
        {
          "output_type": "stream",
          "text": [
            "Downloading data from https://storage.googleapis.com/tensorflow/tf-keras-datasets/reuters_word_index.json\n",
            "557056/550378 [==============================] - 0s 0us/step\n",
            "565248/550378 [==============================] - 0s 0us/step\n"
          ],
          "name": "stdout"
        }
      ]
    },
    {
      "cell_type": "code",
      "metadata": {
        "id": "XJFUVIrhZLDr"
      },
      "source": [
        "x_train = vectorize_sequences(train_data,dimension=10000)\n",
        "x_test = vectorize_sequences(test_data,dimension=10000)"
      ],
      "execution_count": null,
      "outputs": []
    },
    {
      "cell_type": "code",
      "metadata": {
        "id": "yvBlP9ycZXyC"
      },
      "source": [
        "from tensorflow.keras.utils import to_categorical"
      ],
      "execution_count": null,
      "outputs": []
    },
    {
      "cell_type": "code",
      "metadata": {
        "id": "8RfQpWYSZg0F"
      },
      "source": [
        "y_train=to_categorical(train_labels)\n",
        "y_test=to_categorical(test_labels)"
      ],
      "execution_count": null,
      "outputs": []
    },
    {
      "cell_type": "code",
      "metadata": {
        "id": "POZXQitxZxr4"
      },
      "source": [
        "model = keras.Sequential([\n",
        "    layers.Dense(64, activation=\"relu\"),\n",
        "    layers.Dense(64, activation=\"relu\"),\n",
        "    layers.Dense(46, activation=\"softmax\")\n",
        "])"
      ],
      "execution_count": null,
      "outputs": []
    },
    {
      "cell_type": "code",
      "metadata": {
        "id": "Aw6p5HrGZzOr"
      },
      "source": [
        "model.compile(optimizer='adam',loss='categorical_crossentropy',metrics=['accuracy'])"
      ],
      "execution_count": null,
      "outputs": []
    },
    {
      "cell_type": "code",
      "metadata": {
        "id": "O2ci5GJEaKKw"
      },
      "source": [
        "x_val = x_train[:1000]\n",
        "partial_x_train = x_train[1000:]\n",
        "y_val = y_train[:1000]\n",
        "partial_y_train = y_train[1000:]"
      ],
      "execution_count": null,
      "outputs": []
    },
    {
      "cell_type": "code",
      "metadata": {
        "colab": {
          "base_uri": "https://localhost:8080/"
        },
        "id": "T9ZOowzPaMW4",
        "outputId": "13ef862c-fee7-4e2c-a002-5ec2f6d1199c"
      },
      "source": [
        "history=model.fit(partial_x_train,partial_y_train,epochs=10,batch_size=512,validation_data=(x_val,y_val))"
      ],
      "execution_count": null,
      "outputs": [
        {
          "output_type": "stream",
          "text": [
            "Epoch 1/10\n",
            "16/16 [==============================] - 1s 44ms/step - loss: 0.0669 - accuracy: 0.9674 - val_loss: 1.0833 - val_accuracy: 0.8030\n",
            "Epoch 2/10\n",
            "16/16 [==============================] - 1s 41ms/step - loss: 0.0604 - accuracy: 0.9673 - val_loss: 1.0922 - val_accuracy: 0.8040\n",
            "Epoch 3/10\n",
            "16/16 [==============================] - 1s 41ms/step - loss: 0.0567 - accuracy: 0.9672 - val_loss: 1.1011 - val_accuracy: 0.8050\n",
            "Epoch 4/10\n",
            "16/16 [==============================] - 1s 39ms/step - loss: 0.0548 - accuracy: 0.9657 - val_loss: 1.1180 - val_accuracy: 0.8060\n",
            "Epoch 5/10\n",
            "16/16 [==============================] - 1s 40ms/step - loss: 0.0541 - accuracy: 0.9632 - val_loss: 1.1219 - val_accuracy: 0.8030\n",
            "Epoch 6/10\n",
            "16/16 [==============================] - 1s 39ms/step - loss: 0.0540 - accuracy: 0.9615 - val_loss: 1.1372 - val_accuracy: 0.8020\n",
            "Epoch 7/10\n",
            "16/16 [==============================] - 1s 39ms/step - loss: 0.0530 - accuracy: 0.9632 - val_loss: 1.1368 - val_accuracy: 0.8040\n",
            "Epoch 8/10\n",
            "16/16 [==============================] - 1s 40ms/step - loss: 0.0530 - accuracy: 0.9632 - val_loss: 1.1482 - val_accuracy: 0.8020\n",
            "Epoch 9/10\n",
            "16/16 [==============================] - 1s 39ms/step - loss: 0.0530 - accuracy: 0.9639 - val_loss: 1.1520 - val_accuracy: 0.8020\n",
            "Epoch 10/10\n",
            "16/16 [==============================] - 1s 39ms/step - loss: 0.0525 - accuracy: 0.9628 - val_loss: 1.1650 - val_accuracy: 0.8020\n"
          ],
          "name": "stdout"
        }
      ]
    },
    {
      "cell_type": "code",
      "metadata": {
        "colab": {
          "base_uri": "https://localhost:8080/",
          "height": 295
        },
        "id": "YKnifCF2asf_",
        "outputId": "eaba08ad-9009-45e5-99b0-7a1460901086"
      },
      "source": [
        "loss = history.history[\"loss\"]\n",
        "val_loss = history.history[\"val_loss\"]\n",
        "epochs = range(1, len(loss) + 1)\n",
        "plt.plot(epochs, loss, \"bo\", label=\"Training loss\")\n",
        "plt.plot(epochs, val_loss, \"b\", label=\"Validation loss\")\n",
        "plt.title(\"Training and validation loss\")\n",
        "plt.xlabel(\"Epochs\")\n",
        "plt.ylabel(\"Loss\")\n",
        "plt.legend()\n",
        "plt.show()"
      ],
      "execution_count": null,
      "outputs": [
        {
          "output_type": "display_data",
          "data": {
            "image/png": "[encoded data removed]",
            "text/plain": [
              "<Figure size 432x288 with 1 Axes>"
            ]
          },
          "metadata": {
            "needs_background": "light"
          }
        }
      ]
    },
    {
      "cell_type": "code",
      "metadata": {
        "colab": {
          "base_uri": "https://localhost:8080/",
          "height": 295
        },
        "id": "eDi_pWNybipm",
        "outputId": "9ffad006-01cb-494c-de97-5a069c0fdc2c"
      },
      "source": [
        "\n",
        "plt.clf()\n",
        "acc = history.history[\"accuracy\"]\n",
        "val_acc = history.history[\"val_accuracy\"]\n",
        "plt.plot(epochs, acc, \"bo\", label=\"Training accuracy\")\n",
        "plt.plot(epochs, val_acc, \"b\", label=\"Validation accuracy\")\n",
        "plt.title(\"Training and validation accuracy\")\n",
        "plt.xlabel(\"Epochs\")\n",
        "plt.ylabel(\"Accuracy\")\n",
        "plt.legend()\n",
        "plt.show()"
      ],
      "execution_count": null,
      "outputs": [
        {
          "output_type": "display_data",
          "data": {
            "image/png": "[encoded data removed]",
            "text/plain": [
              "<Figure size 432x288 with 1 Axes>"
            ]
          },
          "metadata": {
            "needs_background": "light"
          }
        }
      ]
    },
    {
      "cell_type": "code",
      "metadata": {
        "colab": {
          "base_uri": "https://localhost:8080/"
        },
        "id": "9lXiBDygbm0M",
        "outputId": "78a5740b-fb76-4679-efce-bfabcd9f3b08"
      },
      "source": [
        "\n",
        "model = keras.Sequential([\n",
        "  layers.Dense(64, activation=\"relu\"),\n",
        "  layers.Dense(64, activation=\"relu\"),\n",
        "  layers.Dense(46, activation=\"softmax\")\n",
        "])\n",
        "model.compile(optimizer=\"rmsprop\",\n",
        "              loss=\"categorical_crossentropy\",\n",
        "              metrics=[\"accuracy\"])\n",
        "model.fit(x_train,\n",
        "          y_train,\n",
        "          epochs=9,\n",
        "          batch_size=512)\n",
        "results = model.evaluate(x_test, y_test)"
      ],
      "execution_count": null,
      "outputs": [
        {
          "output_type": "stream",
          "text": [
            "Epoch 1/9\n",
            "18/18 [==============================] - 1s 40ms/step - loss: 2.5108 - accuracy: 0.5252\n",
            "Epoch 2/9\n",
            "18/18 [==============================] - 1s 41ms/step - loss: 1.3520 - accuracy: 0.7140\n",
            "Epoch 3/9\n",
            "18/18 [==============================] - 1s 39ms/step - loss: 0.9911 - accuracy: 0.7955\n",
            "Epoch 4/9\n",
            "18/18 [==============================] - 1s 40ms/step - loss: 0.7681 - accuracy: 0.8401\n",
            "Epoch 5/9\n",
            "18/18 [==============================] - 1s 39ms/step - loss: 0.6010 - accuracy: 0.8741\n",
            "Epoch 6/9\n",
            "18/18 [==============================] - 1s 39ms/step - loss: 0.4780 - accuracy: 0.8997\n",
            "Epoch 7/9\n",
            "18/18 [==============================] - 1s 39ms/step - loss: 0.3830 - accuracy: 0.9189\n",
            "Epoch 8/9\n",
            "18/18 [==============================] - 1s 40ms/step - loss: 0.3114 - accuracy: 0.9309\n",
            "Epoch 9/9\n",
            "18/18 [==============================] - 1s 39ms/step - loss: 0.2606 - accuracy: 0.9399\n",
            "71/71 [==============================] - 0s 3ms/step - loss: 0.9880 - accuracy: 0.7894\n"
          ],
          "name": "stdout"
        }
      ]
    },
    {
      "cell_type": "code",
      "metadata": {
        "colab": {
          "base_uri": "https://localhost:8080/"
        },
        "id": "zVoYZne_bsZj",
        "outputId": "8a0c850b-e0f1-4d8b-e335-f2317b2f9e6d"
      },
      "source": [
        "\n",
        "results"
      ],
      "execution_count": null,
      "outputs": [
        {
          "output_type": "execute_result",
          "data": {
            "text/plain": [
              "[0.987957239151001, 0.7894033789634705]"
            ]
          },
          "metadata": {},
          "execution_count": 67
        }
      ]
    },
    {
      "cell_type": "code",
      "metadata": {
        "colab": {
          "base_uri": "https://localhost:8080/"
        },
        "id": "wBLiPR-fbvhM",
        "outputId": "9a0d4a94-ea07-4d2c-cc46-bebdcd419ca6"
      },
      "source": [
        "import copy\n",
        "test_labels_copy = copy.copy(test_labels)\n",
        "np.random.shuffle(test_labels_copy)\n",
        "hits_array = np.array(test_labels) == np.array(test_labels_copy)\n",
        "hits_array.mean()"
      ],
      "execution_count": null,
      "outputs": [
        {
          "output_type": "execute_result",
          "data": {
            "text/plain": [
              "0.1794300979519145"
            ]
          },
          "metadata": {},
          "execution_count": 68
        }
      ]
    },
    {
      "cell_type": "code",
      "metadata": {
        "id": "TOvyakzSb8sz"
      },
      "source": [
        "predictions = model.predict(x_test)"
      ],
      "execution_count": null,
      "outputs": []
    },
    {
      "cell_type": "code",
      "metadata": {
        "colab": {
          "base_uri": "https://localhost:8080/"
        },
        "id": "8__2z9fBb-t8",
        "outputId": "4050bd38-2532-4fdd-e9b4-ad1474378328"
      },
      "source": [
        "\n",
        "predictions[0].shape"
      ],
      "execution_count": null,
      "outputs": [
        {
          "output_type": "execute_result",
          "data": {
            "text/plain": [
              "(46,)"
            ]
          },
          "metadata": {},
          "execution_count": 70
        }
      ]
    },
    {
      "cell_type": "code",
      "metadata": {
        "colab": {
          "base_uri": "https://localhost:8080/"
        },
        "id": "56dCUVutcBRe",
        "outputId": "0478fcfd-d26d-41ae-c504-06fe8ee51c30"
      },
      "source": [
        "np.sum(predictions[0])"
      ],
      "execution_count": null,
      "outputs": [
        {
          "output_type": "execute_result",
          "data": {
            "text/plain": [
              "1.0000001"
            ]
          },
          "metadata": {},
          "execution_count": 71
        }
      ]
    },
    {
      "cell_type": "code",
      "metadata": {
        "colab": {
          "base_uri": "https://localhost:8080/"
        },
        "id": "of3DXPHmcCWN",
        "outputId": "8926fcbc-8572-4fed-9c84-724892841abd"
      },
      "source": [
        "np.argmax(predictions[0])"
      ],
      "execution_count": null,
      "outputs": [
        {
          "output_type": "execute_result",
          "data": {
            "text/plain": [
              "3"
            ]
          },
          "metadata": {},
          "execution_count": 72
        }
      ]
    },
    {
      "cell_type": "code",
      "metadata": {
        "id": "cZVy2FSmcM4c"
      },
      "source": [
        "model.compile(optimizer=\"rmsprop\",\n",
        "              loss=\"sparse_categorical_crossentropy\",\n",
        "              metrics=[\"accuracy\"])"
      ],
      "execution_count": null,
      "outputs": []
    },
    {
      "cell_type": "code",
      "metadata": {
        "colab": {
          "base_uri": "https://localhost:8080/"
        },
        "id": "uZXDXIlzcU6K",
        "outputId": "6105295d-e84d-4555-df9c-c00dc889fc84"
      },
      "source": [
        "model = keras.Sequential([\n",
        "    layers.Dense(64, activation=\"relu\"),\n",
        "    layers.Dense(4, activation=\"relu\"),\n",
        "    layers.Dense(46, activation=\"softmax\")\n",
        "])\n",
        "model.compile(optimizer=\"rmsprop\",\n",
        "              loss=\"categorical_crossentropy\",\n",
        "              metrics=[\"accuracy\"])\n",
        "model.fit(partial_x_train,\n",
        "          partial_y_train,\n",
        "          epochs=20,\n",
        "          batch_size=128,\n",
        "          validation_data=(x_val, y_val))"
      ],
      "execution_count": null,
      "outputs": [
        {
          "output_type": "stream",
          "text": [
            "Epoch 1/20\n",
            "63/63 [==============================] - 2s 20ms/step - loss: 2.5937 - accuracy: 0.3782 - val_loss: 1.9250 - val_accuracy: 0.5460\n",
            "Epoch 2/20\n",
            "63/63 [==============================] - 1s 17ms/step - loss: 1.7150 - accuracy: 0.5693 - val_loss: 1.5858 - val_accuracy: 0.5930\n",
            "Epoch 3/20\n",
            "63/63 [==============================] - 1s 17ms/step - loss: 1.4476 - accuracy: 0.6198 - val_loss: 1.4747 - val_accuracy: 0.6240\n",
            "Epoch 4/20\n",
            "63/63 [==============================] - 1s 17ms/step - loss: 1.3036 - accuracy: 0.6376 - val_loss: 1.4235 - val_accuracy: 0.6340\n",
            "Epoch 5/20\n",
            "63/63 [==============================] - 1s 16ms/step - loss: 1.2062 - accuracy: 0.6661 - val_loss: 1.4038 - val_accuracy: 0.6530\n",
            "Epoch 6/20\n",
            "63/63 [==============================] - 1s 17ms/step - loss: 1.1307 - accuracy: 0.6906 - val_loss: 1.4084 - val_accuracy: 0.6500\n",
            "Epoch 7/20\n",
            "63/63 [==============================] - 1s 17ms/step - loss: 1.0705 - accuracy: 0.6949 - val_loss: 1.4424 - val_accuracy: 0.6510\n",
            "Epoch 8/20\n",
            "63/63 [==============================] - 1s 17ms/step - loss: 1.0203 - accuracy: 0.6958 - val_loss: 1.4325 - val_accuracy: 0.6580\n",
            "Epoch 9/20\n",
            "63/63 [==============================] - 1s 16ms/step - loss: 0.9725 - accuracy: 0.7102 - val_loss: 1.4329 - val_accuracy: 0.6640\n",
            "Epoch 10/20\n",
            "63/63 [==============================] - 1s 16ms/step - loss: 0.9301 - accuracy: 0.7409 - val_loss: 1.4571 - val_accuracy: 0.6750\n",
            "Epoch 11/20\n",
            "63/63 [==============================] - 1s 16ms/step - loss: 0.8918 - accuracy: 0.7544 - val_loss: 1.4636 - val_accuracy: 0.6790\n",
            "Epoch 12/20\n",
            "63/63 [==============================] - 1s 17ms/step - loss: 0.8566 - accuracy: 0.7647 - val_loss: 1.5018 - val_accuracy: 0.6800\n",
            "Epoch 13/20\n",
            "63/63 [==============================] - 1s 17ms/step - loss: 0.8277 - accuracy: 0.7709 - val_loss: 1.4941 - val_accuracy: 0.6840\n",
            "Epoch 14/20\n",
            "63/63 [==============================] - 1s 17ms/step - loss: 0.7952 - accuracy: 0.7781 - val_loss: 1.5489 - val_accuracy: 0.6810\n",
            "Epoch 15/20\n",
            "63/63 [==============================] - 1s 16ms/step - loss: 0.7744 - accuracy: 0.7829 - val_loss: 1.6174 - val_accuracy: 0.6780\n",
            "Epoch 16/20\n",
            "63/63 [==============================] - 1s 16ms/step - loss: 0.7526 - accuracy: 0.7828 - val_loss: 1.6423 - val_accuracy: 0.6750\n",
            "Epoch 17/20\n",
            "63/63 [==============================] - 1s 17ms/step - loss: 0.7340 - accuracy: 0.7836 - val_loss: 1.7007 - val_accuracy: 0.6780\n",
            "Epoch 18/20\n",
            "63/63 [==============================] - 1s 17ms/step - loss: 0.7167 - accuracy: 0.7876 - val_loss: 1.7037 - val_accuracy: 0.6760\n",
            "Epoch 19/20\n",
            "63/63 [==============================] - 1s 16ms/step - loss: 0.7023 - accuracy: 0.7880 - val_loss: 1.7647 - val_accuracy: 0.6680\n",
            "Epoch 20/20\n",
            "63/63 [==============================] - 1s 17ms/step - loss: 0.6881 - accuracy: 0.7923 - val_loss: 1.8261 - val_accuracy: 0.6810\n"
          ],
          "name": "stdout"
        },
        {
          "output_type": "execute_result",
          "data": {
            "text/plain": [
              "<keras.callbacks.History at 0x7fa6ecf0ec90>"
            ]
          },
          "metadata": {},
          "execution_count": 74
        }
      ]
    },
    {
      "cell_type": "code",
      "metadata": {
        "colab": {
          "base_uri": "https://localhost:8080/"
        },
        "id": "8mxvMCVJcdAx",
        "outputId": "b3c7f9fe-f870-4039-c09a-db2b93dc4d11"
      },
      "source": [
        "from tensorflow.keras.datasets import boston_housing\n",
        "(train_data, train_targets), (test_data, test_targets) = boston_housing.load_data()"
      ],
      "execution_count": null,
      "outputs": [
        {
          "output_type": "stream",
          "text": [
            "Downloading data from https://storage.googleapis.com/tensorflow/tf-keras-datasets/boston_housing.npz\n",
            "57344/57026 [==============================] - 0s 0us/step\n",
            "65536/57026 [==================================] - 0s 0us/step\n"
          ],
          "name": "stdout"
        }
      ]
    },
    {
      "cell_type": "code",
      "metadata": {
        "id": "402PUZVGd6Qn"
      },
      "source": [
        "from sklearn.preprocessing import StandardScaler\n"
      ],
      "execution_count": null,
      "outputs": []
    },
    {
      "cell_type": "code",
      "metadata": {
        "id": "ppVifVIYeOM8"
      },
      "source": [
        "sc=StandardScaler()\n",
        "sc.fit(train_data)\n",
        "x_train=sc.transform(train_data)\n",
        "y_train=sc.transform(test_data)"
      ],
      "execution_count": null,
      "outputs": []
    },
    {
      "cell_type": "code",
      "metadata": {
        "id": "ZXlAKKgnexjD"
      },
      "source": [
        "def build_model():\n",
        "    model = keras.Sequential([\n",
        "        layers.Dense(64, activation=\"relu\"),\n",
        "        layers.Dense(64, activation=\"relu\"),\n",
        "        layers.Dense(1)\n",
        "    ])\n",
        "    model.compile(optimizer=\"rmsprop\", loss=\"mse\", metrics=[\"mae\"])\n",
        "    return model"
      ],
      "execution_count": null,
      "outputs": []
    },
    {
      "cell_type": "code",
      "metadata": {
        "colab": {
          "base_uri": "https://localhost:8080/"
        },
        "id": "oEG0JlqGe71Y",
        "outputId": "267df1e0-9fcf-4165-e580-cc1e029d21f9"
      },
      "source": [
        "k = 4\n",
        "num_val_samples = len(train_data) // k\n",
        "num_epochs = 100\n",
        "all_scores = []\n",
        "for i in range(k):\n",
        "    print(f\"Processing fold #{i}\")\n",
        "    val_data = train_data[i * num_val_samples: (i + 1) * num_val_samples]\n",
        "    val_targets = train_targets[i * num_val_samples: (i + 1) * num_val_samples]\n",
        "    partial_train_data = np.concatenate(\n",
        "        [train_data[:i * num_val_samples],\n",
        "         train_data[(i + 1) * num_val_samples:]],\n",
        "        axis=0)\n",
        "    partial_train_targets = np.concatenate(\n",
        "        [train_targets[:i * num_val_samples],\n",
        "         train_targets[(i + 1) * num_val_samples:]],\n",
        "        axis=0)\n",
        "    model = build_model()\n",
        "    model.fit(partial_train_data, partial_train_targets,\n",
        "              epochs=num_epochs, batch_size=16, verbose=0)\n",
        "    val_mse, val_mae = model.evaluate(val_data, val_targets, verbose=0)\n",
        "    all_scores.append(val_mae)"
      ],
      "execution_count": null,
      "outputs": [
        {
          "output_type": "stream",
          "text": [
            "Processing fold #0\n",
            "Processing fold #1\n",
            "Processing fold #2\n",
            "Processing fold #3\n"
          ],
          "name": "stdout"
        }
      ]
    },
    {
      "cell_type": "code",
      "metadata": {
        "colab": {
          "base_uri": "https://localhost:8080/"
        },
        "id": "xXpcUUJRfGiy",
        "outputId": "559a79b6-8a65-42c7-cff9-6421f4459459"
      },
      "source": [
        "all_scores"
      ],
      "execution_count": null,
      "outputs": [
        {
          "output_type": "execute_result",
          "data": {
            "text/plain": [
              "[4.468687534332275, 4.545778274536133, 3.426875114440918, 4.232307434082031]"
            ]
          },
          "metadata": {},
          "execution_count": 81
        }
      ]
    },
    {
      "cell_type": "code",
      "metadata": {
        "colab": {
          "base_uri": "https://localhost:8080/"
        },
        "id": "RPyzCbmJfK5L",
        "outputId": "1d4dc7e6-6798-44b8-e75b-76d142ad8f93"
      },
      "source": [
        "np.mean(all_scores)"
      ],
      "execution_count": null,
      "outputs": [
        {
          "output_type": "execute_result",
          "data": {
            "text/plain": [
              "4.168412089347839"
            ]
          },
          "metadata": {},
          "execution_count": 83
        }
      ]
    },
    {
      "cell_type": "code",
      "metadata": {
        "colab": {
          "base_uri": "https://localhost:8080/"
        },
        "id": "e32x2XeqfYIE",
        "outputId": "4e88704a-8269-492b-ea57-b466e68830c5"
      },
      "source": [
        "num_epochs = 500\n",
        "all_mae_histories = []\n",
        "for i in range(k):\n",
        "    print(f\"Processing fold #{i}\")\n",
        "    val_data = train_data[i * num_val_samples: (i + 1) * num_val_samples]\n",
        "    val_targets = train_targets[i * num_val_samples: (i + 1) * num_val_samples]\n",
        "    partial_train_data = np.concatenate(\n",
        "        [train_data[:i * num_val_samples],\n",
        "         train_data[(i + 1) * num_val_samples:]],\n",
        "        axis=0)\n",
        "    partial_train_targets = np.concatenate(\n",
        "        [train_targets[:i * num_val_samples],\n",
        "         train_targets[(i + 1) * num_val_samples:]],\n",
        "        axis=0)\n",
        "    model = build_model()\n",
        "    history = model.fit(partial_train_data, partial_train_targets,\n",
        "                        validation_data=(val_data, val_targets),\n",
        "                        epochs=num_epochs, batch_size=16, verbose=0)\n",
        "    mae_history = history.history[\"val_mae\"]\n",
        "    all_mae_histories.append(mae_history)"
      ],
      "execution_count": null,
      "outputs": [
        {
          "output_type": "stream",
          "text": [
            "Processing fold #0\n",
            "Processing fold #1\n",
            "Processing fold #2\n",
            "Processing fold #3\n"
          ],
          "name": "stdout"
        }
      ]
    },
    {
      "cell_type": "code",
      "metadata": {
        "id": "ax9quJ6JfmWs"
      },
      "source": [
        "average_mae_history = [\n",
        "    np.mean([x[i] for x in all_mae_histories]) for i in range(num_epochs)]"
      ],
      "execution_count": null,
      "outputs": []
    },
    {
      "cell_type": "code",
      "metadata": {
        "colab": {
          "base_uri": "https://localhost:8080/",
          "height": 279
        },
        "id": "JSGc6TsHfmvj",
        "outputId": "9c502bb4-0fa9-4b01-f1da-41f6f410fdbc"
      },
      "source": [
        "\n",
        "plt.plot(range(1, len(average_mae_history) + 1), average_mae_history)\n",
        "plt.xlabel(\"Epochs\")\n",
        "plt.ylabel(\"Validation MAE\")\n",
        "plt.show()"
      ],
      "execution_count": null,
      "outputs": [
        {
          "output_type": "display_data",
          "data": {
            "image/png": "[encoded data removed]",
            "text/plain": [
              "<Figure size 432x288 with 1 Axes>"
            ]
          },
          "metadata": {
            "needs_background": "light"
          }
        }
      ]
    },
    {
      "cell_type": "code",
      "metadata": {
        "colab": {
          "base_uri": "https://localhost:8080/",
          "height": 279
        },
        "id": "ze0kSlHFfpRc",
        "outputId": "a2189045-ec97-48a8-a247-d85b90a0551e"
      },
      "source": [
        "\n",
        "truncated_mae_history = average_mae_history[10:]\n",
        "plt.plot(range(1, len(truncated_mae_history) + 1), truncated_mae_history)\n",
        "plt.xlabel(\"Epochs\")\n",
        "plt.ylabel(\"Validation MAE\")\n",
        "plt.show()"
      ],
      "execution_count": null,
      "outputs": [
        {
          "output_type": "display_data",
          "data": {
            "image/png": "[encoded data removed]",
            "text/plain": [
              "<Figure size 432x288 with 1 Axes>"
            ]
          },
          "metadata": {
            "needs_background": "light"
          }
        }
      ]
    },
    {
      "cell_type": "code",
      "metadata": {
        "colab": {
          "base_uri": "https://localhost:8080/"
        },
        "id": "XlnKI03tfptU",
        "outputId": "4c2389c4-9fe7-4f2f-928b-0f8acac63423"
      },
      "source": [
        "model = build_model()\n",
        "model.fit(train_data, train_targets,\n",
        "          epochs=130, batch_size=16, verbose=0)\n",
        "test_mse_score, test_mae_score = model.evaluate(test_data, test_targets)"
      ],
      "execution_count": null,
      "outputs": [
        {
          "output_type": "stream",
          "text": [
            "4/4 [==============================] - 0s 4ms/step - loss: 38.9376 - mae: 4.9804\n"
          ],
          "name": "stdout"
        }
      ]
    },
    {
      "cell_type": "code",
      "metadata": {
        "colab": {
          "base_uri": "https://localhost:8080/"
        },
        "id": "qbszEd5_fto9",
        "outputId": "cb4be58d-34c7-4016-fa71-e69103d58880"
      },
      "source": [
        "predictions = model.predict(test_data)\n",
        "predictions[0]"
      ],
      "execution_count": null,
      "outputs": [
        {
          "output_type": "execute_result",
          "data": {
            "text/plain": [
              "array([13.941955], dtype=float32)"
            ]
          },
          "metadata": {},
          "execution_count": 89
        }
      ]
    }
  ]
}